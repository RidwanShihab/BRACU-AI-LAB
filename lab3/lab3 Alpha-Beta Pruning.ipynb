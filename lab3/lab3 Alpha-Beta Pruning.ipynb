{
 "cells": [
  {
   "cell_type": "code",
   "execution_count": null,
   "metadata": {},
   "outputs": [],
   "source": [
    "#https://docs.google.com/document/d/e/2PACX-1vSAI5P5PysOtKV2K6qFw-I78d-PGE_F-xlYQs18X1wnjClETIVSNrjks1Ilh5jW9A/pub?"
   ]
  },
  {
   "cell_type": "code",
   "execution_count": 50,
   "metadata": {},
   "outputs": [],
   "source": [
    "import random\n",
    "import math"
   ]
  },
  {
   "cell_type": "code",
   "execution_count": 51,
   "metadata": {},
   "outputs": [
    {
     "name": "stdout",
     "output_type": "stream",
     "text": [
      "Number of turns for Riyad\n",
      "1\n",
      "Number of notes from which the choice has to be made at certain time\n",
      "3\n",
      "Minimum and Maximum value for the range of notes\n",
      "1 20\n"
     ]
    }
   ],
   "source": [
    "print(\"Number of turns for Riyad\")\n",
    "turns=input()\n",
    "print(\"Number of notes from which the choice has to be made at certain time\")\n",
    "b=input()\n",
    "print(\"Minimum and Maximum value for the range of notes\")\n",
    "money=input()"
   ]
  },
  {
   "cell_type": "code",
   "execution_count": 52,
   "metadata": {},
   "outputs": [],
   "source": [
    "d=2*int(turns)\n",
    "leafnode=(int(b))**d\n",
    "arysize=((((int(b))**(d+1))-1)/(int(b)-1))"
   ]
  },
  {
   "cell_type": "code",
   "execution_count": 53,
   "metadata": {},
   "outputs": [
    {
     "name": "stdout",
     "output_type": "stream",
     "text": [
      "2-9-13.0\n"
     ]
    }
   ],
   "source": [
    "print(d,leafnode,arysize,sep=\"-\")\n",
    "money = money.split()\n"
   ]
  },
  {
   "cell_type": "code",
   "execution_count": 54,
   "metadata": {},
   "outputs": [
    {
     "name": "stdout",
     "output_type": "stream",
     "text": [
      "[0, 0, 0, 0, 19, 4, 1, 18, 16, 1, 17, 17, 5]\n"
     ]
    }
   ],
   "source": [
    "l=[]\n",
    "arysize=int(arysize)\n",
    "\n",
    "for i in range(arysize):\n",
    "    \n",
    "    if(i>=(arysize-leafnode)):\n",
    "        l.append(random.randint(int(money[0]),int(money[1])))\n",
    "\n",
    "    else:\n",
    "        l.append(0)\n",
    "print(l)"
   ]
  },
  {
   "cell_type": "code",
   "execution_count": 55,
   "metadata": {},
   "outputs": [
    {
     "name": "stdout",
     "output_type": "stream",
     "text": [
      "1\n",
      "14\n"
     ]
    }
   ],
   "source": [
    "\n",
    "def minmax(nodes, depth, b):\n",
    "    c = 0\n",
    "    for i in range((depth-1), -1, -1):\n",
    "        if (i % 2 == 0):\n",
    "            if (i == 0):\n",
    "                nlvl = 1\n",
    "                nodes[i] = -math.inf \n",
    "                for j in range(nlvl,nlvl + int(b)):\n",
    "                    if nodes[i] < nodes[j]:\n",
    "                        c+=1\n",
    "                        nodes[i]= nodes[j]\n",
    "                \n",
    "            lvl = int((int(b)**i - 1)/(int(b)-1))\n",
    "            nlvl = int((int(b)**(i+1) - 1)/(int(b)-1))\n",
    "            for k in range(lvl,lvl + int(b)):\n",
    "                nodes[k] = -math.inf\n",
    "                for z in range(nlvl,nlvl + int(b)):\n",
    "                    if nodes[k] < nodes[z]:\n",
    "                        c+=1\n",
    "                        nodes[k]= nodes[z]           \n",
    "                nlvl  += int(b)\n",
    "                \n",
    "        else:\n",
    "            lvl = int((int(b)**i - 1)/(int(b)-1))\n",
    "            print(i)\n",
    "            nlvl = int((int(b)**(i+1) - 1)/(int(b)-1))\n",
    "            for j in range( lvl,lvl + int(b)):\n",
    "                nodes[j] = math.inf\n",
    "                for z in range( nlvl, nlvl + int(b)):\n",
    "                    if nodes[j] > nodes[z]:\n",
    "                        c+=1\n",
    "                        nodes[j]= nodes[z] \n",
    "                nlvl  += int(b) \n",
    "    \n",
    "                \n",
    "    print(c)\n",
    "            \n",
    "            \n",
    "            \n",
    "            \n",
    "minmax(l, d, b)\n",
    "\n",
    "        \n",
    "    \n",
    "\n",
    "    \n"
   ]
  },
  {
   "cell_type": "code",
   "execution_count": 42,
   "metadata": {},
   "outputs": [
    {
     "name": "stdout",
     "output_type": "stream",
     "text": [
      "[5, 11, 19, 4, 5, 7, 11, 13, 3, 19, 4, 16, 10]\n"
     ]
    }
   ],
   "source": [
    "print(l)"
   ]
  },
  {
   "cell_type": "code",
   "execution_count": null,
   "metadata": {},
   "outputs": [],
   "source": [
    "def minmax(nodes, depth, b):\n",
    "    c = 0\n",
    "    for i in range((depth-1), -1, -1):\n",
    "        if (i % 2 == 0):\n",
    "            if (i == 0):\n",
    "                nlvl = 1\n",
    "                nodes[i] = -math.inf \n",
    "                for j in range(nlvl,nlvl + int(b)):\n",
    "                    if nodes[i] < nodes[j]:\n",
    "                        c+=1\n",
    "                        nodes[i]= nodes[j]\n",
    "                \n",
    "            lvl = int((int(b)**i - 1)/(int(b)-1))\n",
    "            nlvl = int((int(b)**(i+1) - 1)/(int(b)-1))\n",
    "            for k in range(lvl,lvl + int(b)):\n",
    "                nodes[k] = -math.inf\n",
    "                for z in range(nlvl,nlvl + int(b)):\n",
    "                    if nodes[k] < nodes[z]:\n",
    "                        c+=1\n",
    "                        nodes[k]= nodes[z]           \n",
    "                nlvl  += int(b)\n",
    "                \n",
    "        else:\n",
    "            lvl = int((int(b)**i - 1)/(int(b)-1))\n",
    "            print(i)\n",
    "            nlvl = int((int(b)**(i+1) - 1)/(int(b)-1))\n",
    "            for j in range( lvl,lvl + int(b)):\n",
    "                nodes[j] = math.inf\n",
    "                for z in range( nlvl, nlvl + int(b)):\n",
    "                    if nodes[j] > nodes[z]:\n",
    "                        c+=1\n",
    "                        nodes[j]= nodes[z] \n",
    "                nlvl  += int(b) \n",
    "    \n",
    "                \n",
    "    print(c)\n",
    "            \n",
    "            \n",
    "            \n",
    "            \n",
    "minmax(l, d, b)"
   ]
  }
 ],
 "metadata": {
  "kernelspec": {
   "display_name": "Python 3 (ipykernel)",
   "language": "python",
   "name": "python3"
  },
  "language_info": {
   "codemirror_mode": {
    "name": "ipython",
    "version": 3
   },
   "file_extension": ".py",
   "mimetype": "text/x-python",
   "name": "python",
   "nbconvert_exporter": "python",
   "pygments_lexer": "ipython3",
   "version": "3.7.9"
  }
 },
 "nbformat": 4,
 "nbformat_minor": 2
}
