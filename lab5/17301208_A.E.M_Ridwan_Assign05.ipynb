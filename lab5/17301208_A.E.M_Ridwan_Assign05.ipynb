{
 "cells": [
  {
   "cell_type": "code",
   "execution_count": 43,
   "metadata": {},
   "outputs": [],
   "source": [
    "import pandas as pd\n",
    "import numpy as np\n",
    "import matplotlib.pyplot as plt"
   ]
  },
  {
   "cell_type": "code",
   "execution_count": 44,
   "metadata": {},
   "outputs": [],
   "source": [
    "glasses = pd.read_csv('glass source classification dataset.csv')"
   ]
  },
  {
   "cell_type": "code",
   "execution_count": 45,
   "metadata": {},
   "outputs": [
    {
     "data": {
      "text/html": [
       "<div>\n",
       "<style scoped>\n",
       "    .dataframe tbody tr th:only-of-type {\n",
       "        vertical-align: middle;\n",
       "    }\n",
       "\n",
       "    .dataframe tbody tr th {\n",
       "        vertical-align: top;\n",
       "    }\n",
       "\n",
       "    .dataframe thead th {\n",
       "        text-align: right;\n",
       "    }\n",
       "</style>\n",
       "<table border=\"1\" class=\"dataframe\">\n",
       "  <thead>\n",
       "    <tr style=\"text-align: right;\">\n",
       "      <th></th>\n",
       "      <th>Unnamed: 0</th>\n",
       "      <th>RI</th>\n",
       "      <th>Na</th>\n",
       "      <th>Mg</th>\n",
       "      <th>Al</th>\n",
       "      <th>Si</th>\n",
       "      <th>K</th>\n",
       "      <th>Ca</th>\n",
       "      <th>Ba</th>\n",
       "      <th>Fe</th>\n",
       "      <th>Type</th>\n",
       "    </tr>\n",
       "  </thead>\n",
       "  <tbody>\n",
       "    <tr>\n",
       "      <td>0</td>\n",
       "      <td>0</td>\n",
       "      <td>1.52101</td>\n",
       "      <td>13.64</td>\n",
       "      <td>4.49</td>\n",
       "      <td>1.10</td>\n",
       "      <td>71.78</td>\n",
       "      <td>0.06</td>\n",
       "      <td>NaN</td>\n",
       "      <td>Does not exist</td>\n",
       "      <td>Does not exist</td>\n",
       "      <td>building_window glass</td>\n",
       "    </tr>\n",
       "    <tr>\n",
       "      <td>1</td>\n",
       "      <td>1</td>\n",
       "      <td>1.51761</td>\n",
       "      <td>13.89</td>\n",
       "      <td>3.60</td>\n",
       "      <td>1.36</td>\n",
       "      <td>72.73</td>\n",
       "      <td>0.48</td>\n",
       "      <td>7.83</td>\n",
       "      <td>Does not exist</td>\n",
       "      <td>Does not exist</td>\n",
       "      <td>building_window glass</td>\n",
       "    </tr>\n",
       "    <tr>\n",
       "      <td>2</td>\n",
       "      <td>2</td>\n",
       "      <td>1.51618</td>\n",
       "      <td>13.53</td>\n",
       "      <td>3.55</td>\n",
       "      <td>1.54</td>\n",
       "      <td>72.99</td>\n",
       "      <td>0.39</td>\n",
       "      <td>7.78</td>\n",
       "      <td>Does not exist</td>\n",
       "      <td>Does not exist</td>\n",
       "      <td>building_window glass</td>\n",
       "    </tr>\n",
       "    <tr>\n",
       "      <td>3</td>\n",
       "      <td>3</td>\n",
       "      <td>1.51766</td>\n",
       "      <td>13.21</td>\n",
       "      <td>3.69</td>\n",
       "      <td>1.29</td>\n",
       "      <td>72.61</td>\n",
       "      <td>0.57</td>\n",
       "      <td>NaN</td>\n",
       "      <td>Does not exist</td>\n",
       "      <td>Does not exist</td>\n",
       "      <td>building_window glass</td>\n",
       "    </tr>\n",
       "    <tr>\n",
       "      <td>4</td>\n",
       "      <td>4</td>\n",
       "      <td>1.51742</td>\n",
       "      <td>13.27</td>\n",
       "      <td>3.62</td>\n",
       "      <td>1.24</td>\n",
       "      <td>73.08</td>\n",
       "      <td>0.55</td>\n",
       "      <td>8.07</td>\n",
       "      <td>Does not exist</td>\n",
       "      <td>Does not exist</td>\n",
       "      <td>building_window glass</td>\n",
       "    </tr>\n",
       "  </tbody>\n",
       "</table>\n",
       "</div>"
      ],
      "text/plain": [
       "   Unnamed: 0       RI     Na    Mg    Al     Si     K    Ca              Ba  \\\n",
       "0           0  1.52101  13.64  4.49  1.10  71.78  0.06   NaN  Does not exist   \n",
       "1           1  1.51761  13.89  3.60  1.36  72.73  0.48  7.83  Does not exist   \n",
       "2           2  1.51618  13.53  3.55  1.54  72.99  0.39  7.78  Does not exist   \n",
       "3           3  1.51766  13.21  3.69  1.29  72.61  0.57   NaN  Does not exist   \n",
       "4           4  1.51742  13.27  3.62  1.24  73.08  0.55  8.07  Does not exist   \n",
       "\n",
       "               Fe                   Type  \n",
       "0  Does not exist  building_window glass  \n",
       "1  Does not exist  building_window glass  \n",
       "2  Does not exist  building_window glass  \n",
       "3  Does not exist  building_window glass  \n",
       "4  Does not exist  building_window glass  "
      ]
     },
     "execution_count": 45,
     "metadata": {},
     "output_type": "execute_result"
    }
   ],
   "source": [
    "glasses.head()"
   ]
  },
  {
   "cell_type": "code",
   "execution_count": 46,
   "metadata": {},
   "outputs": [
    {
     "data": {
      "text/plain": [
       "(214, 11)"
      ]
     },
     "execution_count": 46,
     "metadata": {},
     "output_type": "execute_result"
    }
   ],
   "source": [
    "glasses.shape"
   ]
  },
  {
   "cell_type": "code",
   "execution_count": 47,
   "metadata": {},
   "outputs": [
    {
     "data": {
      "text/plain": [
       "Unnamed: 0    0\n",
       "RI            0\n",
       "Na            0\n",
       "Mg            0\n",
       "Al            0\n",
       "Si            0\n",
       "K             0\n",
       "Ca            6\n",
       "Ba            0\n",
       "Fe            0\n",
       "Type          0\n",
       "dtype: int64"
      ]
     },
     "execution_count": 47,
     "metadata": {},
     "output_type": "execute_result"
    }
   ],
   "source": [
    "glasses.isnull().sum()"
   ]
  },
  {
   "cell_type": "code",
   "execution_count": 48,
   "metadata": {},
   "outputs": [],
   "source": [
    "glasses1=glasses.dropna(axis=0)"
   ]
  },
  {
   "cell_type": "code",
   "execution_count": 49,
   "metadata": {},
   "outputs": [
    {
     "data": {
      "text/plain": [
       "Unnamed: 0    0\n",
       "RI            0\n",
       "Na            0\n",
       "Mg            0\n",
       "Al            0\n",
       "Si            0\n",
       "K             0\n",
       "Ca            0\n",
       "Ba            0\n",
       "Fe            0\n",
       "Type          0\n",
       "dtype: int64"
      ]
     },
     "execution_count": 49,
     "metadata": {},
     "output_type": "execute_result"
    }
   ],
   "source": [
    "glasses1.isnull().sum()"
   ]
  },
  {
   "cell_type": "code",
   "execution_count": 50,
   "metadata": {},
   "outputs": [
    {
     "data": {
      "text/plain": [
       "(208, 11)"
      ]
     },
     "execution_count": 50,
     "metadata": {},
     "output_type": "execute_result"
    }
   ],
   "source": [
    "glasses1.shape"
   ]
  },
  {
   "cell_type": "code",
   "execution_count": 51,
   "metadata": {},
   "outputs": [
    {
     "name": "stdout",
     "output_type": "stream",
     "text": [
      "<class 'pandas.core.frame.DataFrame'>\n",
      "Int64Index: 208 entries, 1 to 213\n",
      "Data columns (total 11 columns):\n",
      "Unnamed: 0    208 non-null int64\n",
      "RI            208 non-null float64\n",
      "Na            208 non-null float64\n",
      "Mg            208 non-null float64\n",
      "Al            208 non-null float64\n",
      "Si            208 non-null float64\n",
      "K             208 non-null float64\n",
      "Ca            208 non-null float64\n",
      "Ba            208 non-null object\n",
      "Fe            208 non-null object\n",
      "Type          208 non-null object\n",
      "dtypes: float64(7), int64(1), object(3)\n",
      "memory usage: 19.5+ KB\n"
     ]
    }
   ],
   "source": [
    "glasses1.info()"
   ]
  },
  {
   "cell_type": "code",
   "execution_count": 52,
   "metadata": {},
   "outputs": [
    {
     "data": {
      "text/plain": [
       "array(['building_window glass', 'vehicle_window glass', 'container glass',\n",
       "       'tableware glass', 'headlamp glass'], dtype=object)"
      ]
     },
     "execution_count": 52,
     "metadata": {},
     "output_type": "execute_result"
    }
   ],
   "source": [
    "glasses1['Type'].unique()"
   ]
  },
  {
   "cell_type": "code",
   "execution_count": 53,
   "metadata": {},
   "outputs": [],
   "source": [
    "from sklearn.preprocessing import LabelEncoder"
   ]
  },
  {
   "cell_type": "code",
   "execution_count": 54,
   "metadata": {},
   "outputs": [],
   "source": [
    "le= LabelEncoder()"
   ]
  },
  {
   "cell_type": "code",
   "execution_count": null,
   "metadata": {},
   "outputs": [],
   "source": []
  },
  {
   "cell_type": "code",
   "execution_count": 55,
   "metadata": {},
   "outputs": [
    {
     "data": {
      "text/plain": [
       "array(['Does not exist', 'exists'], dtype=object)"
      ]
     },
     "execution_count": 55,
     "metadata": {},
     "output_type": "execute_result"
    }
   ],
   "source": [
    "glasses1['Ba'].unique()"
   ]
  },
  {
   "cell_type": "code",
   "execution_count": 56,
   "metadata": {},
   "outputs": [
    {
     "name": "stderr",
     "output_type": "stream",
     "text": [
      "C:\\Users\\Ridwan\\Anaconda3\\lib\\site-packages\\ipykernel_launcher.py:1: SettingWithCopyWarning: \n",
      "A value is trying to be set on a copy of a slice from a DataFrame.\n",
      "Try using .loc[row_indexer,col_indexer] = value instead\n",
      "\n",
      "See the caveats in the documentation: http://pandas.pydata.org/pandas-docs/stable/user_guide/indexing.html#returning-a-view-versus-a-copy\n",
      "  \"\"\"Entry point for launching an IPython kernel.\n"
     ]
    }
   ],
   "source": [
    "glasses1['Ba']=le.fit_transform(glasses1['Ba'])"
   ]
  },
  {
   "cell_type": "code",
   "execution_count": 57,
   "metadata": {},
   "outputs": [
    {
     "name": "stdout",
     "output_type": "stream",
     "text": [
      "1    0\n",
      "2    0\n",
      "4    0\n",
      "5    0\n",
      "6    0\n",
      "Name: Ba, dtype: int32\n"
     ]
    }
   ],
   "source": [
    "print(glasses1['Ba'].head())"
   ]
  },
  {
   "cell_type": "code",
   "execution_count": 58,
   "metadata": {},
   "outputs": [
    {
     "data": {
      "text/plain": [
       "array(['Does not exist', 'exists'], dtype=object)"
      ]
     },
     "execution_count": 58,
     "metadata": {},
     "output_type": "execute_result"
    }
   ],
   "source": [
    "glasses1['Fe'].unique()"
   ]
  },
  {
   "cell_type": "code",
   "execution_count": 59,
   "metadata": {},
   "outputs": [
    {
     "name": "stderr",
     "output_type": "stream",
     "text": [
      "C:\\Users\\Ridwan\\Anaconda3\\lib\\site-packages\\ipykernel_launcher.py:1: SettingWithCopyWarning: \n",
      "A value is trying to be set on a copy of a slice from a DataFrame.\n",
      "Try using .loc[row_indexer,col_indexer] = value instead\n",
      "\n",
      "See the caveats in the documentation: http://pandas.pydata.org/pandas-docs/stable/user_guide/indexing.html#returning-a-view-versus-a-copy\n",
      "  \"\"\"Entry point for launching an IPython kernel.\n"
     ]
    }
   ],
   "source": [
    "glasses1['Fe']=le.fit_transform(glasses1['Fe'])"
   ]
  },
  {
   "cell_type": "code",
   "execution_count": 60,
   "metadata": {},
   "outputs": [
    {
     "name": "stdout",
     "output_type": "stream",
     "text": [
      "1    0\n",
      "2    0\n",
      "4    0\n",
      "5    1\n",
      "6    0\n",
      "Name: Fe, dtype: int32\n"
     ]
    }
   ],
   "source": [
    "print(glasses1['Fe'].head())"
   ]
  },
  {
   "cell_type": "code",
   "execution_count": null,
   "metadata": {},
   "outputs": [],
   "source": []
  },
  {
   "cell_type": "code",
   "execution_count": 61,
   "metadata": {},
   "outputs": [
    {
     "name": "stdout",
     "output_type": "stream",
     "text": [
      "1    building_window glass\n",
      "2    building_window glass\n",
      "4    building_window glass\n",
      "5    building_window glass\n",
      "6    building_window glass\n",
      "Name: Type, dtype: object\n"
     ]
    }
   ],
   "source": [
    "print(glasses1['Type'].head())"
   ]
  },
  {
   "cell_type": "code",
   "execution_count": 62,
   "metadata": {},
   "outputs": [
    {
     "data": {
      "text/plain": [
       "array(['building_window glass', 'vehicle_window glass', 'container glass',\n",
       "       'tableware glass', 'headlamp glass'], dtype=object)"
      ]
     },
     "execution_count": 62,
     "metadata": {},
     "output_type": "execute_result"
    }
   ],
   "source": [
    "glasses['Type'].unique()"
   ]
  },
  {
   "cell_type": "code",
   "execution_count": 63,
   "metadata": {
    "scrolled": true
   },
   "outputs": [],
   "source": [
    "g=glasses1.drop('Type',1)"
   ]
  },
  {
   "cell_type": "code",
   "execution_count": 64,
   "metadata": {},
   "outputs": [
    {
     "data": {
      "text/html": [
       "<div>\n",
       "<style scoped>\n",
       "    .dataframe tbody tr th:only-of-type {\n",
       "        vertical-align: middle;\n",
       "    }\n",
       "\n",
       "    .dataframe tbody tr th {\n",
       "        vertical-align: top;\n",
       "    }\n",
       "\n",
       "    .dataframe thead th {\n",
       "        text-align: right;\n",
       "    }\n",
       "</style>\n",
       "<table border=\"1\" class=\"dataframe\">\n",
       "  <thead>\n",
       "    <tr style=\"text-align: right;\">\n",
       "      <th></th>\n",
       "      <th>Unnamed: 0</th>\n",
       "      <th>RI</th>\n",
       "      <th>Na</th>\n",
       "      <th>Mg</th>\n",
       "      <th>Al</th>\n",
       "      <th>Si</th>\n",
       "      <th>K</th>\n",
       "      <th>Ca</th>\n",
       "      <th>Ba</th>\n",
       "      <th>Fe</th>\n",
       "    </tr>\n",
       "  </thead>\n",
       "  <tbody>\n",
       "    <tr>\n",
       "      <td>1</td>\n",
       "      <td>1</td>\n",
       "      <td>1.51761</td>\n",
       "      <td>13.89</td>\n",
       "      <td>3.60</td>\n",
       "      <td>1.36</td>\n",
       "      <td>72.73</td>\n",
       "      <td>0.48</td>\n",
       "      <td>7.83</td>\n",
       "      <td>0</td>\n",
       "      <td>0</td>\n",
       "    </tr>\n",
       "    <tr>\n",
       "      <td>2</td>\n",
       "      <td>2</td>\n",
       "      <td>1.51618</td>\n",
       "      <td>13.53</td>\n",
       "      <td>3.55</td>\n",
       "      <td>1.54</td>\n",
       "      <td>72.99</td>\n",
       "      <td>0.39</td>\n",
       "      <td>7.78</td>\n",
       "      <td>0</td>\n",
       "      <td>0</td>\n",
       "    </tr>\n",
       "    <tr>\n",
       "      <td>4</td>\n",
       "      <td>4</td>\n",
       "      <td>1.51742</td>\n",
       "      <td>13.27</td>\n",
       "      <td>3.62</td>\n",
       "      <td>1.24</td>\n",
       "      <td>73.08</td>\n",
       "      <td>0.55</td>\n",
       "      <td>8.07</td>\n",
       "      <td>0</td>\n",
       "      <td>0</td>\n",
       "    </tr>\n",
       "    <tr>\n",
       "      <td>5</td>\n",
       "      <td>5</td>\n",
       "      <td>1.51596</td>\n",
       "      <td>12.79</td>\n",
       "      <td>3.61</td>\n",
       "      <td>1.62</td>\n",
       "      <td>72.97</td>\n",
       "      <td>0.64</td>\n",
       "      <td>8.07</td>\n",
       "      <td>0</td>\n",
       "      <td>1</td>\n",
       "    </tr>\n",
       "    <tr>\n",
       "      <td>6</td>\n",
       "      <td>6</td>\n",
       "      <td>1.51743</td>\n",
       "      <td>13.30</td>\n",
       "      <td>3.60</td>\n",
       "      <td>1.14</td>\n",
       "      <td>73.09</td>\n",
       "      <td>0.58</td>\n",
       "      <td>8.17</td>\n",
       "      <td>0</td>\n",
       "      <td>0</td>\n",
       "    </tr>\n",
       "  </tbody>\n",
       "</table>\n",
       "</div>"
      ],
      "text/plain": [
       "   Unnamed: 0       RI     Na    Mg    Al     Si     K    Ca  Ba  Fe\n",
       "1           1  1.51761  13.89  3.60  1.36  72.73  0.48  7.83   0   0\n",
       "2           2  1.51618  13.53  3.55  1.54  72.99  0.39  7.78   0   0\n",
       "4           4  1.51742  13.27  3.62  1.24  73.08  0.55  8.07   0   0\n",
       "5           5  1.51596  12.79  3.61  1.62  72.97  0.64  8.07   0   1\n",
       "6           6  1.51743  13.30  3.60  1.14  73.09  0.58  8.17   0   0"
      ]
     },
     "execution_count": 64,
     "metadata": {},
     "output_type": "execute_result"
    }
   ],
   "source": [
    "g.head()"
   ]
  },
  {
   "cell_type": "code",
   "execution_count": 65,
   "metadata": {},
   "outputs": [],
   "source": [
    "glasses1.reset_index(drop=True, inplace=True)"
   ]
  },
  {
   "cell_type": "code",
   "execution_count": 66,
   "metadata": {},
   "outputs": [
    {
     "data": {
      "text/html": [
       "<div>\n",
       "<style scoped>\n",
       "    .dataframe tbody tr th:only-of-type {\n",
       "        vertical-align: middle;\n",
       "    }\n",
       "\n",
       "    .dataframe tbody tr th {\n",
       "        vertical-align: top;\n",
       "    }\n",
       "\n",
       "    .dataframe thead th {\n",
       "        text-align: right;\n",
       "    }\n",
       "</style>\n",
       "<table border=\"1\" class=\"dataframe\">\n",
       "  <thead>\n",
       "    <tr style=\"text-align: right;\">\n",
       "      <th></th>\n",
       "      <th>Unnamed: 0</th>\n",
       "      <th>RI</th>\n",
       "      <th>Na</th>\n",
       "      <th>Mg</th>\n",
       "      <th>Al</th>\n",
       "      <th>Si</th>\n",
       "      <th>K</th>\n",
       "      <th>Ca</th>\n",
       "      <th>Ba</th>\n",
       "      <th>Fe</th>\n",
       "      <th>Type</th>\n",
       "    </tr>\n",
       "  </thead>\n",
       "  <tbody>\n",
       "    <tr>\n",
       "      <td>0</td>\n",
       "      <td>1</td>\n",
       "      <td>1.51761</td>\n",
       "      <td>13.89</td>\n",
       "      <td>3.60</td>\n",
       "      <td>1.36</td>\n",
       "      <td>72.73</td>\n",
       "      <td>0.48</td>\n",
       "      <td>7.83</td>\n",
       "      <td>0</td>\n",
       "      <td>0</td>\n",
       "      <td>building_window glass</td>\n",
       "    </tr>\n",
       "    <tr>\n",
       "      <td>1</td>\n",
       "      <td>2</td>\n",
       "      <td>1.51618</td>\n",
       "      <td>13.53</td>\n",
       "      <td>3.55</td>\n",
       "      <td>1.54</td>\n",
       "      <td>72.99</td>\n",
       "      <td>0.39</td>\n",
       "      <td>7.78</td>\n",
       "      <td>0</td>\n",
       "      <td>0</td>\n",
       "      <td>building_window glass</td>\n",
       "    </tr>\n",
       "    <tr>\n",
       "      <td>2</td>\n",
       "      <td>4</td>\n",
       "      <td>1.51742</td>\n",
       "      <td>13.27</td>\n",
       "      <td>3.62</td>\n",
       "      <td>1.24</td>\n",
       "      <td>73.08</td>\n",
       "      <td>0.55</td>\n",
       "      <td>8.07</td>\n",
       "      <td>0</td>\n",
       "      <td>0</td>\n",
       "      <td>building_window glass</td>\n",
       "    </tr>\n",
       "    <tr>\n",
       "      <td>3</td>\n",
       "      <td>5</td>\n",
       "      <td>1.51596</td>\n",
       "      <td>12.79</td>\n",
       "      <td>3.61</td>\n",
       "      <td>1.62</td>\n",
       "      <td>72.97</td>\n",
       "      <td>0.64</td>\n",
       "      <td>8.07</td>\n",
       "      <td>0</td>\n",
       "      <td>1</td>\n",
       "      <td>building_window glass</td>\n",
       "    </tr>\n",
       "    <tr>\n",
       "      <td>4</td>\n",
       "      <td>6</td>\n",
       "      <td>1.51743</td>\n",
       "      <td>13.30</td>\n",
       "      <td>3.60</td>\n",
       "      <td>1.14</td>\n",
       "      <td>73.09</td>\n",
       "      <td>0.58</td>\n",
       "      <td>8.17</td>\n",
       "      <td>0</td>\n",
       "      <td>0</td>\n",
       "      <td>building_window glass</td>\n",
       "    </tr>\n",
       "    <tr>\n",
       "      <td>...</td>\n",
       "      <td>...</td>\n",
       "      <td>...</td>\n",
       "      <td>...</td>\n",
       "      <td>...</td>\n",
       "      <td>...</td>\n",
       "      <td>...</td>\n",
       "      <td>...</td>\n",
       "      <td>...</td>\n",
       "      <td>...</td>\n",
       "      <td>...</td>\n",
       "      <td>...</td>\n",
       "    </tr>\n",
       "    <tr>\n",
       "      <td>203</td>\n",
       "      <td>208</td>\n",
       "      <td>1.51640</td>\n",
       "      <td>14.37</td>\n",
       "      <td>0.00</td>\n",
       "      <td>2.74</td>\n",
       "      <td>72.85</td>\n",
       "      <td>0.00</td>\n",
       "      <td>9.45</td>\n",
       "      <td>1</td>\n",
       "      <td>0</td>\n",
       "      <td>headlamp glass</td>\n",
       "    </tr>\n",
       "    <tr>\n",
       "      <td>204</td>\n",
       "      <td>209</td>\n",
       "      <td>1.51623</td>\n",
       "      <td>14.14</td>\n",
       "      <td>0.00</td>\n",
       "      <td>2.88</td>\n",
       "      <td>72.61</td>\n",
       "      <td>0.08</td>\n",
       "      <td>9.18</td>\n",
       "      <td>1</td>\n",
       "      <td>0</td>\n",
       "      <td>headlamp glass</td>\n",
       "    </tr>\n",
       "    <tr>\n",
       "      <td>205</td>\n",
       "      <td>211</td>\n",
       "      <td>1.52065</td>\n",
       "      <td>14.36</td>\n",
       "      <td>0.00</td>\n",
       "      <td>2.02</td>\n",
       "      <td>73.42</td>\n",
       "      <td>0.00</td>\n",
       "      <td>8.44</td>\n",
       "      <td>1</td>\n",
       "      <td>0</td>\n",
       "      <td>headlamp glass</td>\n",
       "    </tr>\n",
       "    <tr>\n",
       "      <td>206</td>\n",
       "      <td>212</td>\n",
       "      <td>1.51651</td>\n",
       "      <td>14.38</td>\n",
       "      <td>0.00</td>\n",
       "      <td>1.94</td>\n",
       "      <td>73.61</td>\n",
       "      <td>0.00</td>\n",
       "      <td>8.48</td>\n",
       "      <td>1</td>\n",
       "      <td>0</td>\n",
       "      <td>headlamp glass</td>\n",
       "    </tr>\n",
       "    <tr>\n",
       "      <td>207</td>\n",
       "      <td>213</td>\n",
       "      <td>1.51711</td>\n",
       "      <td>14.23</td>\n",
       "      <td>0.00</td>\n",
       "      <td>2.08</td>\n",
       "      <td>73.36</td>\n",
       "      <td>0.00</td>\n",
       "      <td>8.62</td>\n",
       "      <td>1</td>\n",
       "      <td>0</td>\n",
       "      <td>headlamp glass</td>\n",
       "    </tr>\n",
       "  </tbody>\n",
       "</table>\n",
       "<p>208 rows × 11 columns</p>\n",
       "</div>"
      ],
      "text/plain": [
       "     Unnamed: 0       RI     Na    Mg    Al     Si     K    Ca  Ba  Fe  \\\n",
       "0             1  1.51761  13.89  3.60  1.36  72.73  0.48  7.83   0   0   \n",
       "1             2  1.51618  13.53  3.55  1.54  72.99  0.39  7.78   0   0   \n",
       "2             4  1.51742  13.27  3.62  1.24  73.08  0.55  8.07   0   0   \n",
       "3             5  1.51596  12.79  3.61  1.62  72.97  0.64  8.07   0   1   \n",
       "4             6  1.51743  13.30  3.60  1.14  73.09  0.58  8.17   0   0   \n",
       "..          ...      ...    ...   ...   ...    ...   ...   ...  ..  ..   \n",
       "203         208  1.51640  14.37  0.00  2.74  72.85  0.00  9.45   1   0   \n",
       "204         209  1.51623  14.14  0.00  2.88  72.61  0.08  9.18   1   0   \n",
       "205         211  1.52065  14.36  0.00  2.02  73.42  0.00  8.44   1   0   \n",
       "206         212  1.51651  14.38  0.00  1.94  73.61  0.00  8.48   1   0   \n",
       "207         213  1.51711  14.23  0.00  2.08  73.36  0.00  8.62   1   0   \n",
       "\n",
       "                      Type  \n",
       "0    building_window glass  \n",
       "1    building_window glass  \n",
       "2    building_window glass  \n",
       "3    building_window glass  \n",
       "4    building_window glass  \n",
       "..                     ...  \n",
       "203         headlamp glass  \n",
       "204         headlamp glass  \n",
       "205         headlamp glass  \n",
       "206         headlamp glass  \n",
       "207         headlamp glass  \n",
       "\n",
       "[208 rows x 11 columns]"
      ]
     },
     "execution_count": 66,
     "metadata": {},
     "output_type": "execute_result"
    }
   ],
   "source": [
    "glasses1"
   ]
  },
  {
   "cell_type": "code",
   "execution_count": 67,
   "metadata": {},
   "outputs": [],
   "source": [
    "from sklearn.preprocessing import MinMaxScaler"
   ]
  },
  {
   "cell_type": "code",
   "execution_count": 68,
   "metadata": {},
   "outputs": [],
   "source": [
    "scaler=MinMaxScaler()"
   ]
  },
  {
   "cell_type": "code",
   "execution_count": 69,
   "metadata": {},
   "outputs": [
    {
     "data": {
      "text/plain": [
       "MinMaxScaler(copy=True, feature_range=(0, 1))"
      ]
     },
     "execution_count": 69,
     "metadata": {},
     "output_type": "execute_result"
    }
   ],
   "source": [
    "scaler.fit(g)"
   ]
  },
  {
   "cell_type": "code",
   "execution_count": 70,
   "metadata": {},
   "outputs": [],
   "source": [
    "x=scaler.transform(g)"
   ]
  },
  {
   "cell_type": "code",
   "execution_count": 92,
   "metadata": {},
   "outputs": [
    {
     "data": {
      "text/plain": [
       "0    building_window glass\n",
       "1    building_window glass\n",
       "2    building_window glass\n",
       "3    building_window glass\n",
       "4    building_window glass\n",
       "Name: Type, dtype: object"
      ]
     },
     "execution_count": 92,
     "metadata": {},
     "output_type": "execute_result"
    }
   ],
   "source": [
    " # Transform the sex column\n",
    "#y = pd.get_dummies(glasses1['Type'])\n",
    "y=glasses1['Type']\n",
    "# Take a look at the encoded columns\n",
    "y.head() "
   ]
  },
  {
   "cell_type": "code",
   "execution_count": 72,
   "metadata": {},
   "outputs": [
    {
     "data": {
      "text/html": [
       "<div>\n",
       "<style scoped>\n",
       "    .dataframe tbody tr th:only-of-type {\n",
       "        vertical-align: middle;\n",
       "    }\n",
       "\n",
       "    .dataframe tbody tr th {\n",
       "        vertical-align: top;\n",
       "    }\n",
       "\n",
       "    .dataframe thead th {\n",
       "        text-align: right;\n",
       "    }\n",
       "</style>\n",
       "<table border=\"1\" class=\"dataframe\">\n",
       "  <thead>\n",
       "    <tr style=\"text-align: right;\">\n",
       "      <th></th>\n",
       "      <th>building_window glass</th>\n",
       "      <th>container glass</th>\n",
       "      <th>headlamp glass</th>\n",
       "      <th>tableware glass</th>\n",
       "      <th>vehicle_window glass</th>\n",
       "    </tr>\n",
       "  </thead>\n",
       "  <tbody>\n",
       "    <tr>\n",
       "      <td>0</td>\n",
       "      <td>1</td>\n",
       "      <td>0</td>\n",
       "      <td>0</td>\n",
       "      <td>0</td>\n",
       "      <td>0</td>\n",
       "    </tr>\n",
       "    <tr>\n",
       "      <td>1</td>\n",
       "      <td>1</td>\n",
       "      <td>0</td>\n",
       "      <td>0</td>\n",
       "      <td>0</td>\n",
       "      <td>0</td>\n",
       "    </tr>\n",
       "    <tr>\n",
       "      <td>2</td>\n",
       "      <td>1</td>\n",
       "      <td>0</td>\n",
       "      <td>0</td>\n",
       "      <td>0</td>\n",
       "      <td>0</td>\n",
       "    </tr>\n",
       "    <tr>\n",
       "      <td>3</td>\n",
       "      <td>1</td>\n",
       "      <td>0</td>\n",
       "      <td>0</td>\n",
       "      <td>0</td>\n",
       "      <td>0</td>\n",
       "    </tr>\n",
       "    <tr>\n",
       "      <td>4</td>\n",
       "      <td>1</td>\n",
       "      <td>0</td>\n",
       "      <td>0</td>\n",
       "      <td>0</td>\n",
       "      <td>0</td>\n",
       "    </tr>\n",
       "    <tr>\n",
       "      <td>...</td>\n",
       "      <td>...</td>\n",
       "      <td>...</td>\n",
       "      <td>...</td>\n",
       "      <td>...</td>\n",
       "      <td>...</td>\n",
       "    </tr>\n",
       "    <tr>\n",
       "      <td>203</td>\n",
       "      <td>0</td>\n",
       "      <td>0</td>\n",
       "      <td>1</td>\n",
       "      <td>0</td>\n",
       "      <td>0</td>\n",
       "    </tr>\n",
       "    <tr>\n",
       "      <td>204</td>\n",
       "      <td>0</td>\n",
       "      <td>0</td>\n",
       "      <td>1</td>\n",
       "      <td>0</td>\n",
       "      <td>0</td>\n",
       "    </tr>\n",
       "    <tr>\n",
       "      <td>205</td>\n",
       "      <td>0</td>\n",
       "      <td>0</td>\n",
       "      <td>1</td>\n",
       "      <td>0</td>\n",
       "      <td>0</td>\n",
       "    </tr>\n",
       "    <tr>\n",
       "      <td>206</td>\n",
       "      <td>0</td>\n",
       "      <td>0</td>\n",
       "      <td>1</td>\n",
       "      <td>0</td>\n",
       "      <td>0</td>\n",
       "    </tr>\n",
       "    <tr>\n",
       "      <td>207</td>\n",
       "      <td>0</td>\n",
       "      <td>0</td>\n",
       "      <td>1</td>\n",
       "      <td>0</td>\n",
       "      <td>0</td>\n",
       "    </tr>\n",
       "  </tbody>\n",
       "</table>\n",
       "<p>208 rows × 5 columns</p>\n",
       "</div>"
      ],
      "text/plain": [
       "     building_window glass  container glass  headlamp glass  tableware glass  \\\n",
       "0                        1                0               0                0   \n",
       "1                        1                0               0                0   \n",
       "2                        1                0               0                0   \n",
       "3                        1                0               0                0   \n",
       "4                        1                0               0                0   \n",
       "..                     ...              ...             ...              ...   \n",
       "203                      0                0               1                0   \n",
       "204                      0                0               1                0   \n",
       "205                      0                0               1                0   \n",
       "206                      0                0               1                0   \n",
       "207                      0                0               1                0   \n",
       "\n",
       "     vehicle_window glass  \n",
       "0                       0  \n",
       "1                       0  \n",
       "2                       0  \n",
       "3                       0  \n",
       "4                       0  \n",
       "..                    ...  \n",
       "203                     0  \n",
       "204                     0  \n",
       "205                     0  \n",
       "206                     0  \n",
       "207                     0  \n",
       "\n",
       "[208 rows x 5 columns]"
      ]
     },
     "execution_count": 72,
     "metadata": {},
     "output_type": "execute_result"
    }
   ],
   "source": [
    "y"
   ]
  },
  {
   "cell_type": "code",
   "execution_count": 73,
   "metadata": {},
   "outputs": [
    {
     "data": {
      "text/plain": [
       "array([[0.        , 0.28358209, 0.47518797, ..., 0.22304833, 0.        ,\n",
       "        0.        ],\n",
       "       [0.00471698, 0.22080773, 0.42105263, ..., 0.21840149, 0.        ,\n",
       "        0.        ],\n",
       "       [0.01415094, 0.27524144, 0.38195489, ..., 0.24535316, 0.        ,\n",
       "        0.        ],\n",
       "       ...,\n",
       "       [0.99056604, 0.41703248, 0.54586466, ..., 0.27973978, 1.        ,\n",
       "        0.        ],\n",
       "       [0.99528302, 0.23529412, 0.54887218, ..., 0.28345725, 1.        ,\n",
       "        0.        ],\n",
       "       [1.        , 0.26163301, 0.52631579, ..., 0.2964684 , 1.        ,\n",
       "        0.        ]])"
      ]
     },
     "execution_count": 73,
     "metadata": {},
     "output_type": "execute_result"
    }
   ],
   "source": [
    "x"
   ]
  },
  {
   "cell_type": "code",
   "execution_count": 74,
   "metadata": {},
   "outputs": [],
   "source": [
    "df=pd.DataFrame(x)"
   ]
  },
  {
   "cell_type": "code",
   "execution_count": 75,
   "metadata": {},
   "outputs": [
    {
     "data": {
      "text/html": [
       "<div>\n",
       "<style scoped>\n",
       "    .dataframe tbody tr th:only-of-type {\n",
       "        vertical-align: middle;\n",
       "    }\n",
       "\n",
       "    .dataframe tbody tr th {\n",
       "        vertical-align: top;\n",
       "    }\n",
       "\n",
       "    .dataframe thead th {\n",
       "        text-align: right;\n",
       "    }\n",
       "</style>\n",
       "<table border=\"1\" class=\"dataframe\">\n",
       "  <thead>\n",
       "    <tr style=\"text-align: right;\">\n",
       "      <th></th>\n",
       "      <th>0</th>\n",
       "      <th>1</th>\n",
       "      <th>2</th>\n",
       "      <th>3</th>\n",
       "      <th>4</th>\n",
       "      <th>5</th>\n",
       "      <th>6</th>\n",
       "      <th>7</th>\n",
       "      <th>8</th>\n",
       "      <th>9</th>\n",
       "    </tr>\n",
       "  </thead>\n",
       "  <tbody>\n",
       "    <tr>\n",
       "      <td>0</td>\n",
       "      <td>0.000000</td>\n",
       "      <td>0.283582</td>\n",
       "      <td>0.475188</td>\n",
       "      <td>0.904523</td>\n",
       "      <td>0.333333</td>\n",
       "      <td>0.521429</td>\n",
       "      <td>0.077295</td>\n",
       "      <td>0.223048</td>\n",
       "      <td>0.0</td>\n",
       "      <td>0.0</td>\n",
       "    </tr>\n",
       "    <tr>\n",
       "      <td>1</td>\n",
       "      <td>0.004717</td>\n",
       "      <td>0.220808</td>\n",
       "      <td>0.421053</td>\n",
       "      <td>0.891960</td>\n",
       "      <td>0.389408</td>\n",
       "      <td>0.567857</td>\n",
       "      <td>0.062802</td>\n",
       "      <td>0.218401</td>\n",
       "      <td>0.0</td>\n",
       "      <td>0.0</td>\n",
       "    </tr>\n",
       "    <tr>\n",
       "      <td>2</td>\n",
       "      <td>0.014151</td>\n",
       "      <td>0.275241</td>\n",
       "      <td>0.381955</td>\n",
       "      <td>0.909548</td>\n",
       "      <td>0.295950</td>\n",
       "      <td>0.583929</td>\n",
       "      <td>0.088567</td>\n",
       "      <td>0.245353</td>\n",
       "      <td>0.0</td>\n",
       "      <td>0.0</td>\n",
       "    </tr>\n",
       "    <tr>\n",
       "      <td>3</td>\n",
       "      <td>0.018868</td>\n",
       "      <td>0.211150</td>\n",
       "      <td>0.309774</td>\n",
       "      <td>0.907035</td>\n",
       "      <td>0.414330</td>\n",
       "      <td>0.564286</td>\n",
       "      <td>0.103060</td>\n",
       "      <td>0.245353</td>\n",
       "      <td>0.0</td>\n",
       "      <td>1.0</td>\n",
       "    </tr>\n",
       "    <tr>\n",
       "      <td>4</td>\n",
       "      <td>0.023585</td>\n",
       "      <td>0.275680</td>\n",
       "      <td>0.386466</td>\n",
       "      <td>0.904523</td>\n",
       "      <td>0.264798</td>\n",
       "      <td>0.585714</td>\n",
       "      <td>0.093398</td>\n",
       "      <td>0.254647</td>\n",
       "      <td>0.0</td>\n",
       "      <td>0.0</td>\n",
       "    </tr>\n",
       "    <tr>\n",
       "      <td>...</td>\n",
       "      <td>...</td>\n",
       "      <td>...</td>\n",
       "      <td>...</td>\n",
       "      <td>...</td>\n",
       "      <td>...</td>\n",
       "      <td>...</td>\n",
       "      <td>...</td>\n",
       "      <td>...</td>\n",
       "      <td>...</td>\n",
       "      <td>...</td>\n",
       "    </tr>\n",
       "    <tr>\n",
       "      <td>203</td>\n",
       "      <td>0.976415</td>\n",
       "      <td>0.230465</td>\n",
       "      <td>0.547368</td>\n",
       "      <td>0.000000</td>\n",
       "      <td>0.763240</td>\n",
       "      <td>0.542857</td>\n",
       "      <td>0.000000</td>\n",
       "      <td>0.373606</td>\n",
       "      <td>1.0</td>\n",
       "      <td>0.0</td>\n",
       "    </tr>\n",
       "    <tr>\n",
       "      <td>204</td>\n",
       "      <td>0.981132</td>\n",
       "      <td>0.223003</td>\n",
       "      <td>0.512782</td>\n",
       "      <td>0.000000</td>\n",
       "      <td>0.806854</td>\n",
       "      <td>0.500000</td>\n",
       "      <td>0.012882</td>\n",
       "      <td>0.348513</td>\n",
       "      <td>1.0</td>\n",
       "      <td>0.0</td>\n",
       "    </tr>\n",
       "    <tr>\n",
       "      <td>205</td>\n",
       "      <td>0.990566</td>\n",
       "      <td>0.417032</td>\n",
       "      <td>0.545865</td>\n",
       "      <td>0.000000</td>\n",
       "      <td>0.538941</td>\n",
       "      <td>0.644643</td>\n",
       "      <td>0.000000</td>\n",
       "      <td>0.279740</td>\n",
       "      <td>1.0</td>\n",
       "      <td>0.0</td>\n",
       "    </tr>\n",
       "    <tr>\n",
       "      <td>206</td>\n",
       "      <td>0.995283</td>\n",
       "      <td>0.235294</td>\n",
       "      <td>0.548872</td>\n",
       "      <td>0.000000</td>\n",
       "      <td>0.514019</td>\n",
       "      <td>0.678571</td>\n",
       "      <td>0.000000</td>\n",
       "      <td>0.283457</td>\n",
       "      <td>1.0</td>\n",
       "      <td>0.0</td>\n",
       "    </tr>\n",
       "    <tr>\n",
       "      <td>207</td>\n",
       "      <td>1.000000</td>\n",
       "      <td>0.261633</td>\n",
       "      <td>0.526316</td>\n",
       "      <td>0.000000</td>\n",
       "      <td>0.557632</td>\n",
       "      <td>0.633929</td>\n",
       "      <td>0.000000</td>\n",
       "      <td>0.296468</td>\n",
       "      <td>1.0</td>\n",
       "      <td>0.0</td>\n",
       "    </tr>\n",
       "  </tbody>\n",
       "</table>\n",
       "<p>208 rows × 10 columns</p>\n",
       "</div>"
      ],
      "text/plain": [
       "            0         1         2         3         4         5         6  \\\n",
       "0    0.000000  0.283582  0.475188  0.904523  0.333333  0.521429  0.077295   \n",
       "1    0.004717  0.220808  0.421053  0.891960  0.389408  0.567857  0.062802   \n",
       "2    0.014151  0.275241  0.381955  0.909548  0.295950  0.583929  0.088567   \n",
       "3    0.018868  0.211150  0.309774  0.907035  0.414330  0.564286  0.103060   \n",
       "4    0.023585  0.275680  0.386466  0.904523  0.264798  0.585714  0.093398   \n",
       "..        ...       ...       ...       ...       ...       ...       ...   \n",
       "203  0.976415  0.230465  0.547368  0.000000  0.763240  0.542857  0.000000   \n",
       "204  0.981132  0.223003  0.512782  0.000000  0.806854  0.500000  0.012882   \n",
       "205  0.990566  0.417032  0.545865  0.000000  0.538941  0.644643  0.000000   \n",
       "206  0.995283  0.235294  0.548872  0.000000  0.514019  0.678571  0.000000   \n",
       "207  1.000000  0.261633  0.526316  0.000000  0.557632  0.633929  0.000000   \n",
       "\n",
       "            7    8    9  \n",
       "0    0.223048  0.0  0.0  \n",
       "1    0.218401  0.0  0.0  \n",
       "2    0.245353  0.0  0.0  \n",
       "3    0.245353  0.0  1.0  \n",
       "4    0.254647  0.0  0.0  \n",
       "..        ...  ...  ...  \n",
       "203  0.373606  1.0  0.0  \n",
       "204  0.348513  1.0  0.0  \n",
       "205  0.279740  1.0  0.0  \n",
       "206  0.283457  1.0  0.0  \n",
       "207  0.296468  1.0  0.0  \n",
       "\n",
       "[208 rows x 10 columns]"
      ]
     },
     "execution_count": 75,
     "metadata": {},
     "output_type": "execute_result"
    }
   ],
   "source": [
    "df"
   ]
  },
  {
   "cell_type": "code",
   "execution_count": 93,
   "metadata": {},
   "outputs": [],
   "source": [
    "yn=pd.DataFrame(y)"
   ]
  },
  {
   "cell_type": "code",
   "execution_count": 94,
   "metadata": {},
   "outputs": [
    {
     "data": {
      "text/html": [
       "<div>\n",
       "<style scoped>\n",
       "    .dataframe tbody tr th:only-of-type {\n",
       "        vertical-align: middle;\n",
       "    }\n",
       "\n",
       "    .dataframe tbody tr th {\n",
       "        vertical-align: top;\n",
       "    }\n",
       "\n",
       "    .dataframe thead th {\n",
       "        text-align: right;\n",
       "    }\n",
       "</style>\n",
       "<table border=\"1\" class=\"dataframe\">\n",
       "  <thead>\n",
       "    <tr style=\"text-align: right;\">\n",
       "      <th></th>\n",
       "      <th>Type</th>\n",
       "    </tr>\n",
       "  </thead>\n",
       "  <tbody>\n",
       "    <tr>\n",
       "      <td>0</td>\n",
       "      <td>building_window glass</td>\n",
       "    </tr>\n",
       "    <tr>\n",
       "      <td>1</td>\n",
       "      <td>building_window glass</td>\n",
       "    </tr>\n",
       "    <tr>\n",
       "      <td>2</td>\n",
       "      <td>building_window glass</td>\n",
       "    </tr>\n",
       "    <tr>\n",
       "      <td>3</td>\n",
       "      <td>building_window glass</td>\n",
       "    </tr>\n",
       "    <tr>\n",
       "      <td>4</td>\n",
       "      <td>building_window glass</td>\n",
       "    </tr>\n",
       "    <tr>\n",
       "      <td>...</td>\n",
       "      <td>...</td>\n",
       "    </tr>\n",
       "    <tr>\n",
       "      <td>203</td>\n",
       "      <td>headlamp glass</td>\n",
       "    </tr>\n",
       "    <tr>\n",
       "      <td>204</td>\n",
       "      <td>headlamp glass</td>\n",
       "    </tr>\n",
       "    <tr>\n",
       "      <td>205</td>\n",
       "      <td>headlamp glass</td>\n",
       "    </tr>\n",
       "    <tr>\n",
       "      <td>206</td>\n",
       "      <td>headlamp glass</td>\n",
       "    </tr>\n",
       "    <tr>\n",
       "      <td>207</td>\n",
       "      <td>headlamp glass</td>\n",
       "    </tr>\n",
       "  </tbody>\n",
       "</table>\n",
       "<p>208 rows × 1 columns</p>\n",
       "</div>"
      ],
      "text/plain": [
       "                      Type\n",
       "0    building_window glass\n",
       "1    building_window glass\n",
       "2    building_window glass\n",
       "3    building_window glass\n",
       "4    building_window glass\n",
       "..                     ...\n",
       "203         headlamp glass\n",
       "204         headlamp glass\n",
       "205         headlamp glass\n",
       "206         headlamp glass\n",
       "207         headlamp glass\n",
       "\n",
       "[208 rows x 1 columns]"
      ]
     },
     "execution_count": 94,
     "metadata": {},
     "output_type": "execute_result"
    }
   ],
   "source": [
    "yn"
   ]
  },
  {
   "cell_type": "code",
   "execution_count": 95,
   "metadata": {},
   "outputs": [],
   "source": [
    "df['Type'] = yn"
   ]
  },
  {
   "cell_type": "code",
   "execution_count": 79,
   "metadata": {},
   "outputs": [
    {
     "data": {
      "text/html": [
       "<div>\n",
       "<style scoped>\n",
       "    .dataframe tbody tr th:only-of-type {\n",
       "        vertical-align: middle;\n",
       "    }\n",
       "\n",
       "    .dataframe tbody tr th {\n",
       "        vertical-align: top;\n",
       "    }\n",
       "\n",
       "    .dataframe thead th {\n",
       "        text-align: right;\n",
       "    }\n",
       "</style>\n",
       "<table border=\"1\" class=\"dataframe\">\n",
       "  <thead>\n",
       "    <tr style=\"text-align: right;\">\n",
       "      <th></th>\n",
       "      <th>0</th>\n",
       "      <th>1</th>\n",
       "      <th>2</th>\n",
       "      <th>3</th>\n",
       "      <th>4</th>\n",
       "      <th>5</th>\n",
       "      <th>6</th>\n",
       "      <th>7</th>\n",
       "      <th>8</th>\n",
       "      <th>9</th>\n",
       "    </tr>\n",
       "  </thead>\n",
       "  <tbody>\n",
       "    <tr>\n",
       "      <td>0</td>\n",
       "      <td>0.000000</td>\n",
       "      <td>0.283582</td>\n",
       "      <td>0.475188</td>\n",
       "      <td>0.904523</td>\n",
       "      <td>0.333333</td>\n",
       "      <td>0.521429</td>\n",
       "      <td>0.077295</td>\n",
       "      <td>0.223048</td>\n",
       "      <td>0.0</td>\n",
       "      <td>0.0</td>\n",
       "    </tr>\n",
       "    <tr>\n",
       "      <td>1</td>\n",
       "      <td>0.004717</td>\n",
       "      <td>0.220808</td>\n",
       "      <td>0.421053</td>\n",
       "      <td>0.891960</td>\n",
       "      <td>0.389408</td>\n",
       "      <td>0.567857</td>\n",
       "      <td>0.062802</td>\n",
       "      <td>0.218401</td>\n",
       "      <td>0.0</td>\n",
       "      <td>0.0</td>\n",
       "    </tr>\n",
       "    <tr>\n",
       "      <td>2</td>\n",
       "      <td>0.014151</td>\n",
       "      <td>0.275241</td>\n",
       "      <td>0.381955</td>\n",
       "      <td>0.909548</td>\n",
       "      <td>0.295950</td>\n",
       "      <td>0.583929</td>\n",
       "      <td>0.088567</td>\n",
       "      <td>0.245353</td>\n",
       "      <td>0.0</td>\n",
       "      <td>0.0</td>\n",
       "    </tr>\n",
       "    <tr>\n",
       "      <td>3</td>\n",
       "      <td>0.018868</td>\n",
       "      <td>0.211150</td>\n",
       "      <td>0.309774</td>\n",
       "      <td>0.907035</td>\n",
       "      <td>0.414330</td>\n",
       "      <td>0.564286</td>\n",
       "      <td>0.103060</td>\n",
       "      <td>0.245353</td>\n",
       "      <td>0.0</td>\n",
       "      <td>1.0</td>\n",
       "    </tr>\n",
       "    <tr>\n",
       "      <td>4</td>\n",
       "      <td>0.023585</td>\n",
       "      <td>0.275680</td>\n",
       "      <td>0.386466</td>\n",
       "      <td>0.904523</td>\n",
       "      <td>0.264798</td>\n",
       "      <td>0.585714</td>\n",
       "      <td>0.093398</td>\n",
       "      <td>0.254647</td>\n",
       "      <td>0.0</td>\n",
       "      <td>0.0</td>\n",
       "    </tr>\n",
       "    <tr>\n",
       "      <td>...</td>\n",
       "      <td>...</td>\n",
       "      <td>...</td>\n",
       "      <td>...</td>\n",
       "      <td>...</td>\n",
       "      <td>...</td>\n",
       "      <td>...</td>\n",
       "      <td>...</td>\n",
       "      <td>...</td>\n",
       "      <td>...</td>\n",
       "      <td>...</td>\n",
       "    </tr>\n",
       "    <tr>\n",
       "      <td>203</td>\n",
       "      <td>0.976415</td>\n",
       "      <td>0.230465</td>\n",
       "      <td>0.547368</td>\n",
       "      <td>0.000000</td>\n",
       "      <td>0.763240</td>\n",
       "      <td>0.542857</td>\n",
       "      <td>0.000000</td>\n",
       "      <td>0.373606</td>\n",
       "      <td>1.0</td>\n",
       "      <td>0.0</td>\n",
       "    </tr>\n",
       "    <tr>\n",
       "      <td>204</td>\n",
       "      <td>0.981132</td>\n",
       "      <td>0.223003</td>\n",
       "      <td>0.512782</td>\n",
       "      <td>0.000000</td>\n",
       "      <td>0.806854</td>\n",
       "      <td>0.500000</td>\n",
       "      <td>0.012882</td>\n",
       "      <td>0.348513</td>\n",
       "      <td>1.0</td>\n",
       "      <td>0.0</td>\n",
       "    </tr>\n",
       "    <tr>\n",
       "      <td>205</td>\n",
       "      <td>0.990566</td>\n",
       "      <td>0.417032</td>\n",
       "      <td>0.545865</td>\n",
       "      <td>0.000000</td>\n",
       "      <td>0.538941</td>\n",
       "      <td>0.644643</td>\n",
       "      <td>0.000000</td>\n",
       "      <td>0.279740</td>\n",
       "      <td>1.0</td>\n",
       "      <td>0.0</td>\n",
       "    </tr>\n",
       "    <tr>\n",
       "      <td>206</td>\n",
       "      <td>0.995283</td>\n",
       "      <td>0.235294</td>\n",
       "      <td>0.548872</td>\n",
       "      <td>0.000000</td>\n",
       "      <td>0.514019</td>\n",
       "      <td>0.678571</td>\n",
       "      <td>0.000000</td>\n",
       "      <td>0.283457</td>\n",
       "      <td>1.0</td>\n",
       "      <td>0.0</td>\n",
       "    </tr>\n",
       "    <tr>\n",
       "      <td>207</td>\n",
       "      <td>1.000000</td>\n",
       "      <td>0.261633</td>\n",
       "      <td>0.526316</td>\n",
       "      <td>0.000000</td>\n",
       "      <td>0.557632</td>\n",
       "      <td>0.633929</td>\n",
       "      <td>0.000000</td>\n",
       "      <td>0.296468</td>\n",
       "      <td>1.0</td>\n",
       "      <td>0.0</td>\n",
       "    </tr>\n",
       "  </tbody>\n",
       "</table>\n",
       "<p>208 rows × 10 columns</p>\n",
       "</div>"
      ],
      "text/plain": [
       "            0         1         2         3         4         5         6  \\\n",
       "0    0.000000  0.283582  0.475188  0.904523  0.333333  0.521429  0.077295   \n",
       "1    0.004717  0.220808  0.421053  0.891960  0.389408  0.567857  0.062802   \n",
       "2    0.014151  0.275241  0.381955  0.909548  0.295950  0.583929  0.088567   \n",
       "3    0.018868  0.211150  0.309774  0.907035  0.414330  0.564286  0.103060   \n",
       "4    0.023585  0.275680  0.386466  0.904523  0.264798  0.585714  0.093398   \n",
       "..        ...       ...       ...       ...       ...       ...       ...   \n",
       "203  0.976415  0.230465  0.547368  0.000000  0.763240  0.542857  0.000000   \n",
       "204  0.981132  0.223003  0.512782  0.000000  0.806854  0.500000  0.012882   \n",
       "205  0.990566  0.417032  0.545865  0.000000  0.538941  0.644643  0.000000   \n",
       "206  0.995283  0.235294  0.548872  0.000000  0.514019  0.678571  0.000000   \n",
       "207  1.000000  0.261633  0.526316  0.000000  0.557632  0.633929  0.000000   \n",
       "\n",
       "            7    8    9  \n",
       "0    0.223048  0.0  0.0  \n",
       "1    0.218401  0.0  0.0  \n",
       "2    0.245353  0.0  0.0  \n",
       "3    0.245353  0.0  1.0  \n",
       "4    0.254647  0.0  0.0  \n",
       "..        ...  ...  ...  \n",
       "203  0.373606  1.0  0.0  \n",
       "204  0.348513  1.0  0.0  \n",
       "205  0.279740  1.0  0.0  \n",
       "206  0.283457  1.0  0.0  \n",
       "207  0.296468  1.0  0.0  \n",
       "\n",
       "[208 rows x 10 columns]"
      ]
     },
     "execution_count": 79,
     "metadata": {},
     "output_type": "execute_result"
    }
   ],
   "source": [
    "df"
   ]
  },
  {
   "cell_type": "code",
   "execution_count": 96,
   "metadata": {},
   "outputs": [
    {
     "data": {
      "text/plain": [
       "Index([0, 1, 2, 3, 4, 5, 6, 7, 8, 9, 'Type'], dtype='object')"
      ]
     },
     "execution_count": 96,
     "metadata": {},
     "output_type": "execute_result"
    }
   ],
   "source": [
    "#df.to_csv('file1.csv')\n",
    "df.keys()\n"
   ]
  },
  {
   "cell_type": "code",
   "execution_count": 97,
   "metadata": {},
   "outputs": [
    {
     "name": "stdout",
     "output_type": "stream",
     "text": [
      "(166, 10)\n"
     ]
    }
   ],
   "source": [
    "from sklearn.model_selection import train_test_split\n",
    "\n",
    "X_train, X_test, y_train, y_test = train_test_split(x,y,test_size=0.2,\n",
    "                                                    random_state=1)\n",
    "print(X_train.shape)"
   ]
  },
  {
   "cell_type": "code",
   "execution_count": 98,
   "metadata": {},
   "outputs": [
    {
     "name": "stdout",
     "output_type": "stream",
     "text": [
      "(42, 10)\n"
     ]
    }
   ],
   "source": [
    "print(X_test.shape)"
   ]
  },
  {
   "cell_type": "code",
   "execution_count": 99,
   "metadata": {},
   "outputs": [],
   "source": [
    "from sklearn.linear_model import LogisticRegression\n",
    "from sklearn.metrics import classification_report\n",
    "from sklearn.metrics import accuracy_score"
   ]
  },
  {
   "cell_type": "code",
   "execution_count": 101,
   "metadata": {},
   "outputs": [
    {
     "name": "stdout",
     "output_type": "stream",
     "text": [
      "['headlamp glass' 'building_window glass' 'container glass'\n",
      " 'headlamp glass' 'building_window glass' 'building_window glass'\n",
      " 'building_window glass' 'building_window glass' 'headlamp glass'\n",
      " 'building_window glass' 'building_window glass' 'building_window glass'\n",
      " 'building_window glass' 'headlamp glass' 'building_window glass'\n",
      " 'building_window glass' 'building_window glass' 'headlamp glass'\n",
      " 'building_window glass' 'building_window glass' 'building_window glass'\n",
      " 'building_window glass' 'building_window glass' 'building_window glass'\n",
      " 'building_window glass' 'building_window glass' 'building_window glass'\n",
      " 'building_window glass' 'building_window glass' 'building_window glass'\n",
      " 'building_window glass' 'building_window glass' 'building_window glass'\n",
      " 'building_window glass' 'building_window glass' 'building_window glass'\n",
      " 'building_window glass' 'building_window glass' 'building_window glass'\n",
      " 'building_window glass' 'headlamp glass' 'headlamp glass']\n"
     ]
    },
    {
     "name": "stderr",
     "output_type": "stream",
     "text": [
      "C:\\Users\\Ridwan\\Anaconda3\\lib\\site-packages\\sklearn\\linear_model\\logistic.py:432: FutureWarning: Default solver will be changed to 'lbfgs' in 0.22. Specify a solver to silence this warning.\n",
      "  FutureWarning)\n",
      "C:\\Users\\Ridwan\\Anaconda3\\lib\\site-packages\\sklearn\\linear_model\\logistic.py:469: FutureWarning: Default multi_class will be changed to 'auto' in 0.22. Specify the multi_class option to silence this warning.\n",
      "  \"this warning.\", FutureWarning)\n"
     ]
    }
   ],
   "source": [
    "model = LogisticRegression()\n",
    "model.fit(X_train, y_train) #Training the model\n",
    "predictions = model.predict(X_test)\n",
    "print(predictions)"
   ]
  },
  {
   "cell_type": "code",
   "execution_count": 102,
   "metadata": {},
   "outputs": [
    {
     "name": "stdout",
     "output_type": "stream",
     "text": [
      "0.8095238095238095\n"
     ]
    }
   ],
   "source": [
    "print( accuracy_score(y_test, predictions))"
   ]
  },
  {
   "cell_type": "code",
   "execution_count": 104,
   "metadata": {},
   "outputs": [
    {
     "name": "stdout",
     "output_type": "stream",
     "text": [
      "1.0\n"
     ]
    }
   ],
   "source": [
    "from sklearn.tree import DecisionTreeClassifier\n",
    "\n",
    "clf = DecisionTreeClassifier(criterion='entropy',random_state=1)\n",
    "clf.fit(X_train,y_train)\n",
    "y_pred = clf.predict(X_test)\n",
    "score=accuracy_score(y_pred,y_test)\n",
    "print(score)"
   ]
  },
  {
   "cell_type": "code",
   "execution_count": 105,
   "metadata": {},
   "outputs": [],
   "source": [
    "import matplotlib.pyplot as plt"
   ]
  },
  {
   "cell_type": "code",
   "execution_count": 115,
   "metadata": {},
   "outputs": [
    {
     "data": {
      "image/png": "[encoded data removed]",
      "text/plain": [
       "<Figure size 432x288 with 1 Axes>"
      ]
     },
     "metadata": {
      "needs_background": "light"
     },
     "output_type": "display_data"
    }
   ],
   "source": [
    "fig, ax = plt.subplots()\n",
    "# scatter the sepal_length against the sepal_width\n",
    "#ax.scatter(accuracy_score(y_test, predictions),accuracy_score(y_pred,y_test))\n",
    "width = 0.35  # the width of the bars\n",
    "\n",
    "rects1 = ax.bar(accuracy_score(y_test, predictions),accuracy_score(y_test, predictions), width,)\n",
    "rects2 = ax.bar(accuracy_score(y_pred,y_test),accuracy_score(y_pred,y_test), width, )"
   ]
  },
  {
   "cell_type": "code",
   "execution_count": 1,
   "metadata": {},
   "outputs": [
    {
     "ename": "NameError",
     "evalue": "name 'accuracy_score' is not defined",
     "output_type": "error",
     "traceback": [
      "\u001b[1;31m---------------------------------------------------------------------------\u001b[0m",
      "\u001b[1;31mNameError\u001b[0m                                 Traceback (most recent call last)",
      "\u001b[1;32m<ipython-input-1-c661d9eeb822>\u001b[0m in \u001b[0;36m<module>\u001b[1;34m\u001b[0m\n\u001b[0;32m      4\u001b[0m \u001b[1;33m\u001b[0m\u001b[0m\n\u001b[0;32m      5\u001b[0m \u001b[0mlabels\u001b[0m \u001b[1;33m=\u001b[0m \u001b[1;33m[\u001b[0m\u001b[1;34m'Logistic'\u001b[0m\u001b[1;33m,\u001b[0m \u001b[1;34m'Tree'\u001b[0m\u001b[1;33m]\u001b[0m\u001b[1;33m\u001b[0m\u001b[1;33m\u001b[0m\u001b[0m\n\u001b[1;32m----> 6\u001b[1;33m \u001b[0mmen_means\u001b[0m \u001b[1;33m=\u001b[0m \u001b[1;33m[\u001b[0m\u001b[0maccuracy_score\u001b[0m\u001b[1;33m(\u001b[0m\u001b[0my_test\u001b[0m\u001b[1;33m,\u001b[0m \u001b[0mpredictions\u001b[0m\u001b[1;33m)\u001b[0m\u001b[1;33m,\u001b[0m\u001b[0maccuracy_score\u001b[0m\u001b[1;33m(\u001b[0m\u001b[0my_pred\u001b[0m\u001b[1;33m,\u001b[0m\u001b[0my_test\u001b[0m\u001b[1;33m)\u001b[0m\u001b[1;33m]\u001b[0m\u001b[1;33m\u001b[0m\u001b[1;33m\u001b[0m\u001b[0m\n\u001b[0m\u001b[0;32m      7\u001b[0m \u001b[1;33m\u001b[0m\u001b[0m\n\u001b[0;32m      8\u001b[0m \u001b[1;33m\u001b[0m\u001b[0m\n",
      "\u001b[1;31mNameError\u001b[0m: name 'accuracy_score' is not defined"
     ]
    }
   ],
   "source": [
    "import numpy as np\n",
    "import matplotlib.pyplot as plt\n",
    "\n",
    "\n",
    "labels = ['Logistic', 'Tree']\n",
    "men_means = [accuracy_score(y_test, predictions),accuracy_score(y_pred,y_test)]\n",
    "\n",
    "\n",
    "\n",
    "width = .35 \n",
    "\n",
    "fig, ax = plt.subplots()\n",
    "\n",
    "ax.bar(labels, men_means, width)\n",
    "\n",
    "\n",
    "ax.set_ylabel('Accuracy')\n",
    "ax.set_title('Accuracy comparison of Logistic Regression & Decision Tree ')\n",
    "ax.legend()\n",
    "\n",
    "plt.show()"
   ]
  },
  {
   "cell_type": "code",
   "execution_count": null,
   "metadata": {},
   "outputs": [],
   "source": []
  }
 ],
 "metadata": {
  "kernelspec": {
   "display_name": "Python 3",
   "language": "python",
   "name": "python3"
  },
  "language_info": {
   "codemirror_mode": {
    "name": "ipython",
    "version": 3
   },
   "file_extension": ".py",
   "mimetype": "text/x-python",
   "name": "python",
   "nbconvert_exporter": "python",
   "pygments_lexer": "ipython3",
   "version": "3.7.9"
  }
 },
 "nbformat": 4,
 "nbformat_minor": 2
}
