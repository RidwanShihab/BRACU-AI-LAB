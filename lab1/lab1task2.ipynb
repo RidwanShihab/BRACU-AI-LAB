{
 "cells": [
  {
   "cell_type": "code",
   "execution_count": 9,
   "metadata": {},
   "outputs": [
    {
     "name": "stdout",
     "output_type": "stream",
     "text": [
      "['9 ', '12 ', '0 1 ', '0 2', '0 3', '1 3', '1 4', '2 3', '3 5', '4 8', '4 7', '5 6', '6 7', '7 8', '7', '5', '3']\n"
     ]
    }
   ],
   "source": [
    "f = open(\"lab1p2.txt\", \"r\")\n",
    "data=f.read().split(\"\\n\")\n",
    "\n",
    "print(data)"
   ]
  },
  {
   "cell_type": "code",
   "execution_count": 10,
   "metadata": {},
   "outputs": [
    {
     "name": "stdout",
     "output_type": "stream",
     "text": [
      "['0 1 ', '0 2', '0 3', '1 3', '1 4', '2 3', '3 5', '4 8', '4 7', '5 6', '6 7', '7 8']\n",
      "7 9  5 3\n"
     ]
    }
   ],
   "source": [
    "edge=data[2:-3]\n",
    "des=data[-3]\n",
    "p=data[-2]\n",
    "q=data[-1]\n",
    "nodes=data[0]\n",
    "print(edge)\n",
    "print(des,nodes,p,q)\n"
   ]
  },
  {
   "cell_type": "code",
   "execution_count": 13,
   "metadata": {},
   "outputs": [],
   "source": [
    "dict = {}\n",
    "d = {}\n",
    "\n",
    "for x in range(int(nodes)):\n",
    "         dict[str(x)]=[] \n",
    "         d[str(x)]=-1  \n",
    "  \n",
    "\n",
    "for x in edge:\n",
    "    if(dict.get(x[2]) is not None):\n",
    "        dict.get(x[2]).append(x[0])\n",
    "    else:\n",
    "        dict[x[2]] = [x[0]]"
   ]
  },
  {
   "cell_type": "code",
   "execution_count": 14,
   "metadata": {},
   "outputs": [
    {
     "data": {
      "text/plain": [
       "{'0': [],\n",
       " '1': ['0'],\n",
       " '2': ['0'],\n",
       " '3': ['0', '1', '2'],\n",
       " '4': ['1'],\n",
       " '5': ['3'],\n",
       " '6': ['5'],\n",
       " '7': ['4', '6'],\n",
       " '8': ['4', '7']}"
      ]
     },
     "execution_count": 14,
     "metadata": {},
     "output_type": "execute_result"
    }
   ],
   "source": [
    "dict"
   ]
  },
  {
   "cell_type": "code",
   "execution_count": 17,
   "metadata": {},
   "outputs": [
    {
     "data": {
      "text/plain": [
       "{'0': 3, '1': 2, '2': 4, '3': 3, '4': 1, '5': 2, '6': 1, '7': 0, '8': -1}"
      ]
     },
     "execution_count": 17,
     "metadata": {},
     "output_type": "execute_result"
    }
   ],
   "source": [
    "def bfs(graph, start):\n",
    "    visited=[start]\n",
    "    queue=[start]\n",
    "    d[start]=0\n",
    "   # print(d[start])\n",
    "    while queue:\n",
    "        node = queue.pop(0)\n",
    "       # print (node)\n",
    "        for i in graph[node]:\n",
    "            if i not in visited:\n",
    "               # print(i)\n",
    "                d[i]=d[node]+1\n",
    "               # print(d[i])\n",
    "                visited.append(i)\n",
    "                queue.append(i)\n",
    "    \n",
    "\"\"\"           \n",
    "bfs(dict,p)\n",
    "pdnora=d[des[0]]\n",
    "bfs(dict,q)\n",
    "qdlara=d[des[0]]\n",
    "\n",
    "if(pdnora<qdlara):\n",
    "    print(\"Nora Wins\")\n",
    "else:\n",
    "    print(\"Lara Wins\")\n",
    "\"\"\"     \n",
    "bfs(dict,des) \n",
    "d"
   ]
  },
  {
   "cell_type": "code",
   "execution_count": 18,
   "metadata": {},
   "outputs": [
    {
     "name": "stdout",
     "output_type": "stream",
     "text": [
      "Nora Wins\n"
     ]
    }
   ],
   "source": [
    "if(d[p]<d[q]):\n",
    "    print(\"Nora Wins\")\n",
    "else:\n",
    "    print(\"Lara Wins\")"
   ]
  },
  {
   "cell_type": "code",
   "execution_count": null,
   "metadata": {},
   "outputs": [],
   "source": []
  }
 ],
 "metadata": {
  "kernelspec": {
   "display_name": "Python 3",
   "language": "python",
   "name": "python3"
  },
  "language_info": {
   "codemirror_mode": {
    "name": "ipython",
    "version": 3
   },
   "file_extension": ".py",
   "mimetype": "text/x-python",
   "name": "python",
   "nbconvert_exporter": "python",
   "pygments_lexer": "ipython3",
   "version": "3.7.9"
  }
 },
 "nbformat": 4,
 "nbformat_minor": 2
}
