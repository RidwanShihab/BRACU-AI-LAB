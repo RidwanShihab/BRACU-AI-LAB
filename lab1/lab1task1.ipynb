{
 "cells": [
  {
   "cell_type": "code",
   "execution_count": 3,
   "metadata": {},
   "outputs": [
    {
     "name": "stdout",
     "output_type": "stream",
     "text": [
      "['9', '13', '0 1 ', '0 2 ', '0 3 ', '1 3 ', '1 4 ', '2 3 ', '3 5 ', '3 6 ', '4 8 ', '4 7 ', '5 6 ', '6 7 ', '7 8 ', '6 ', '']\n"
     ]
    }
   ],
   "source": [
    "f = open(\"lab1p1.txt\", \"r\")\n",
    "data=f.read().split(\"\\n\")\n",
    "\n",
    "print(data)"
   ]
  },
  {
   "cell_type": "code",
   "execution_count": 4,
   "metadata": {},
   "outputs": [],
   "source": [
    "edge=data[2:-2]\n",
    "des=data[-2]\n",
    "nodes=data[0]"
   ]
  },
  {
   "cell_type": "code",
   "execution_count": 5,
   "metadata": {
    "scrolled": true
   },
   "outputs": [
    {
     "name": "stdout",
     "output_type": "stream",
     "text": [
      "<class 'str'>\n",
      "9\n"
     ]
    }
   ],
   "source": [
    "edge\n",
    "print(type(des))\n",
    "print(nodes)\n",
    "l=[]"
   ]
  },
  {
   "cell_type": "code",
   "execution_count": 6,
   "metadata": {},
   "outputs": [
    {
     "data": {
      "text/plain": [
       "'\\nfor x in edge:\\n    try:\\n        l[int(x[0])].append(x[2])\\n    except:\\n        l.append([x[2]])\\n        '"
      ]
     },
     "execution_count": 6,
     "metadata": {},
     "output_type": "execute_result"
    }
   ],
   "source": [
    "\"\"\"\n",
    "for x in edge:\n",
    "    try:\n",
    "        l[int(x[0])].append(x[2])\n",
    "    except:\n",
    "        l.append([x[2]])\n",
    "        \"\"\""
   ]
  },
  {
   "cell_type": "code",
   "execution_count": null,
   "metadata": {
    "scrolled": true
   },
   "outputs": [],
   "source": []
  },
  {
   "cell_type": "code",
   "execution_count": 7,
   "metadata": {},
   "outputs": [
    {
     "data": {
      "text/plain": [
       "'\\nfor i,v in  enumerate(l):\\n    for j in v:\\n        print(i, j, sep=\"--->\")\\n'"
      ]
     },
     "execution_count": 7,
     "metadata": {},
     "output_type": "execute_result"
    }
   ],
   "source": [
    "\"\"\"\n",
    "for i,v in  enumerate(l):\n",
    "    for j in v:\n",
    "        print(i, j, sep=\"--->\")\n",
    "\"\"\"        "
   ]
  },
  {
   "cell_type": "code",
   "execution_count": 8,
   "metadata": {},
   "outputs": [],
   "source": [
    "dict = {}\n",
    "d = {}\n",
    "\n",
    "for x in range(int(nodes)):\n",
    "         dict[str(x)]=[] \n",
    "         d[str(x)]=-1  \n",
    "  \n",
    "\n",
    "for x in edge:\n",
    "    if(dict.get(x[0]) is not None):\n",
    "        dict.get(x[0]).append(x[2])\n",
    "    else:\n",
    "        dict[x[0]] = [x[2]]\n",
    "        \n",
    "        \n",
    "        "
   ]
  },
  {
   "cell_type": "code",
   "execution_count": 9,
   "metadata": {
    "scrolled": true
   },
   "outputs": [
    {
     "data": {
      "text/plain": [
       "{'0': -1,\n",
       " '1': -1,\n",
       " '2': -1,\n",
       " '3': -1,\n",
       " '4': -1,\n",
       " '5': -1,\n",
       " '6': -1,\n",
       " '7': -1,\n",
       " '8': -1}"
      ]
     },
     "execution_count": 9,
     "metadata": {},
     "output_type": "execute_result"
    }
   ],
   "source": [
    "d"
   ]
  },
  {
   "cell_type": "code",
   "execution_count": 10,
   "metadata": {},
   "outputs": [
    {
     "data": {
      "text/plain": [
       "\"\\ntry:\\n    for key, value in enumerate(dict):\\n        lvl=0\\n        for j in value:\\n            #print(dict.get(j))\\n\\n            for x in dict.get(j):\\n                lvl+=1\\n                if(x=='6'):\\n                    \\n                    raise StopIteration;\\n            \\nexcept StopIteration: \\n    pass\\nprint(lvl)\\n\""
      ]
     },
     "execution_count": 10,
     "metadata": {},
     "output_type": "execute_result"
    }
   ],
   "source": [
    "\"\"\"\n",
    "try:\n",
    "    for key, value in enumerate(dict):\n",
    "        lvl=0\n",
    "        for j in value:\n",
    "            #print(dict.get(j))\n",
    "\n",
    "            for x in dict.get(j):\n",
    "                lvl+=1\n",
    "                if(x=='6'):\n",
    "                    \n",
    "                    raise StopIteration;\n",
    "            \n",
    "except StopIteration: \n",
    "    pass\n",
    "print(lvl)\n",
    "\"\"\"     "
   ]
  },
  {
   "cell_type": "code",
   "execution_count": 11,
   "metadata": {},
   "outputs": [
    {
     "data": {
      "text/plain": [
       "'\\ndef bfs(graph, start):\\n    visited=[start]\\n    queue=[start]\\n  # pre=[]\\n  # c=0\\n  # if start == goal:\\n  #     return c\\n    while queue:\\n        node = queue.pop(0)\\n        print (node)\\n        for i in graph[node]:\\n          if i not in visited:\\n    #       if i == goal:\\n                \\n            visited.append(i)\\n            queue.append(i)\\n      #     pre.append(node)\\n            \\nbfs(dict,0)   '"
      ]
     },
     "execution_count": 11,
     "metadata": {},
     "output_type": "execute_result"
    }
   ],
   "source": [
    "\"\"\"\n",
    "def bfs(graph, start):\n",
    "    visited=[start]\n",
    "    queue=[start]\n",
    "  # pre=[]\n",
    "  # c=0\n",
    "  # if start == goal:\n",
    "  #     return c\n",
    "    while queue:\n",
    "        node = queue.pop(0)\n",
    "        print (node)\n",
    "        for i in graph[node]:\n",
    "          if i not in visited:\n",
    "    #       if i == goal:\n",
    "                \n",
    "            visited.append(i)\n",
    "            queue.append(i)\n",
    "      #     pre.append(node)\n",
    "            \n",
    "bfs(dict,0)   \"\"\""
   ]
  },
  {
   "cell_type": "code",
   "execution_count": 12,
   "metadata": {},
   "outputs": [
    {
     "name": "stdout",
     "output_type": "stream",
     "text": [
      "2\n"
     ]
    }
   ],
   "source": [
    "\n",
    "\n",
    "def bfs(graph, start):\n",
    "    visited=[start]\n",
    "    queue=[start]\n",
    "    d[start]=0\n",
    "   # print(d[start])\n",
    "    while queue:\n",
    "        node = queue.pop(0)\n",
    "       # print (node)\n",
    "        for i in graph[node]:\n",
    "            if i not in visited:\n",
    "               # print(i)\n",
    "                d[i]=d[node]+1\n",
    "               # print(d[i])\n",
    "                visited.append(i)\n",
    "                queue.append(i)\n",
    "    \n",
    "            \n",
    "bfs(dict,'0')  \n",
    "print(d[des[0]])"
   ]
  },
  {
   "cell_type": "markdown",
   "metadata": {},
   "source": [
    "2nd round"
   ]
  },
  {
   "cell_type": "code",
   "execution_count": null,
   "metadata": {},
   "outputs": [],
   "source": []
  },
  {
   "cell_type": "code",
   "execution_count": null,
   "metadata": {},
   "outputs": [],
   "source": []
  }
 ],
 "metadata": {
  "kernelspec": {
   "display_name": "Python 3",
   "language": "python",
   "name": "python3"
  },
  "language_info": {
   "codemirror_mode": {
    "name": "ipython",
    "version": 3
   },
   "file_extension": ".py",
   "mimetype": "text/x-python",
   "name": "python",
   "nbconvert_exporter": "python",
   "pygments_lexer": "ipython3",
   "version": "3.7.9"
  }
 },
 "nbformat": 4,
 "nbformat_minor": 2
}
