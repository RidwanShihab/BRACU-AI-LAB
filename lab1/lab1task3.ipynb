{
 "cells": [
  {
   "cell_type": "code",
   "execution_count": 2,
   "metadata": {},
   "outputs": [
    {
     "name": "stdout",
     "output_type": "stream",
     "text": [
      "['10', '14', '0 1 ', '0 2  ', '0 3 ', '1 3 ', '1 4 ', '2 3 ', '3 5 ', '4 7 ', '4 8 ', '5 6 ', '6 7 ', '6 9 ', '7 8 ', '8 9 ', '9', '5', '0', '1', '3', '5', '7', '']\n"
     ]
    }
   ],
   "source": [
    "f = open(\"lab1p3.txt\", \"r\")\n",
    "data=f.read().split(\"\\n\")\n",
    "\n",
    "print(data)"
   ]
  },
  {
   "cell_type": "code",
   "execution_count": 14,
   "metadata": {},
   "outputs": [
    {
     "name": "stdout",
     "output_type": "stream",
     "text": [
      "['0 1 ', '0 2  ', '0 3 ', '1 3 ', '1 4 ', '2 3 ', '3 5 ', '4 7 ', '4 8 ', '5 6 ', '6 7 ', '6 9 ', '7 8 ', '8 9 ']\n",
      "9 10\n",
      "['0', '1', '3', '5', '7']\n"
     ]
    }
   ],
   "source": [
    "edge=data[2:-8]\n",
    "des=data[-8]\n",
    "l=[]\n",
    "r=0\n",
    "t=int(data[-7])\n",
    "for x in range(t):\n",
    "    l.append(data[(r-6)])\n",
    "    r+=1\n",
    "\n",
    "nodes=data[0]\n",
    "print(edge)\n",
    "print(des,nodes)\n",
    "print(l)"
   ]
  },
  {
   "cell_type": "code",
   "execution_count": 6,
   "metadata": {},
   "outputs": [],
   "source": [
    "dict = {}\n",
    "d = {}\n",
    "\n",
    "for x in range(int(nodes)):\n",
    "         dict[str(x)]=[] \n",
    "         d[str(x)]=-1  \n",
    "  \n",
    "\n",
    "for x in edge:\n",
    "    if(dict.get(x[2]) is not None):\n",
    "        dict.get(x[2]).append(x[0])\n",
    "    else:\n",
    "        dict[x[2]] = [x[0]]"
   ]
  },
  {
   "cell_type": "code",
   "execution_count": 7,
   "metadata": {},
   "outputs": [
    {
     "data": {
      "text/plain": [
       "{'0': [],\n",
       " '1': ['0'],\n",
       " '2': ['0'],\n",
       " '3': ['0', '1', '2'],\n",
       " '4': ['1'],\n",
       " '5': ['3'],\n",
       " '6': ['5'],\n",
       " '7': ['4', '6'],\n",
       " '8': ['4', '7'],\n",
       " '9': ['6', '8']}"
      ]
     },
     "execution_count": 7,
     "metadata": {},
     "output_type": "execute_result"
    }
   ],
   "source": [
    "dict"
   ]
  },
  {
   "cell_type": "code",
   "execution_count": 19,
   "metadata": {},
   "outputs": [
    {
     "data": {
      "text/plain": [
       "{'0': 4,\n",
       " '1': 3,\n",
       " '2': 4,\n",
       " '3': 3,\n",
       " '4': 2,\n",
       " '5': 2,\n",
       " '6': 1,\n",
       " '7': 2,\n",
       " '8': 1,\n",
       " '9': 0}"
      ]
     },
     "execution_count": 19,
     "metadata": {},
     "output_type": "execute_result"
    }
   ],
   "source": [
    "def bfs(graph, start):\n",
    "    visited=[start]\n",
    "    queue=[start]\n",
    "    d[start]=0\n",
    "   # print(d[start])\n",
    "    while queue:\n",
    "        node = queue.pop(0)\n",
    "       # print (node)\n",
    "        for i in graph[node]:\n",
    "            if i not in visited:\n",
    "               # print(i)\n",
    "                d[i]=d[node]+1\n",
    "               # print(d[i])\n",
    "                visited.append(i)\n",
    "                queue.append(i)\n",
    "                \n",
    "bfs(dict,des) \n",
    "d\n"
   ]
  },
  {
   "cell_type": "code",
   "execution_count": 21,
   "metadata": {},
   "outputs": [
    {
     "name": "stdout",
     "output_type": "stream",
     "text": [
      "2\n",
      "position: 5\n",
      "position: 7\n"
     ]
    }
   ],
   "source": [
    "m=999\n",
    "for x in range(t):\n",
    "    if(d[l[x]]<m):\n",
    "        m=d[l[x]]\n",
    "        \n",
    "print(m)\n",
    "for x in range(t):\n",
    "    if(d[l[x]]==m):\n",
    "        print(\"position:\", l[x])"
   ]
  },
  {
   "cell_type": "code",
   "execution_count": null,
   "metadata": {},
   "outputs": [],
   "source": []
  }
 ],
 "metadata": {
  "kernelspec": {
   "display_name": "Python 3",
   "language": "python",
   "name": "python3"
  },
  "language_info": {
   "codemirror_mode": {
    "name": "ipython",
    "version": 3
   },
   "file_extension": ".py",
   "mimetype": "text/x-python",
   "name": "python",
   "nbconvert_exporter": "python",
   "pygments_lexer": "ipython3",
   "version": "3.7.9"
  }
 },
 "nbformat": 4,
 "nbformat_minor": 2
}
